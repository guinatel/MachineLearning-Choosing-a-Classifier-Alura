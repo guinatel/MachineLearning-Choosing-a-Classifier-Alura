{
 "cells": [
  {
   "cell_type": "code",
   "execution_count": 2,
   "id": "7166083b",
   "metadata": {},
   "outputs": [],
   "source": [
    "import pandas as pd"
   ]
  },
  {
   "cell_type": "code",
   "execution_count": 102,
   "id": "4093c3bf",
   "metadata": {},
   "outputs": [
    {
     "data": {
      "text/html": [
       "<div>\n",
       "<style scoped>\n",
       "    .dataframe tbody tr th:only-of-type {\n",
       "        vertical-align: middle;\n",
       "    }\n",
       "\n",
       "    .dataframe tbody tr th {\n",
       "        vertical-align: top;\n",
       "    }\n",
       "\n",
       "    .dataframe thead th {\n",
       "        text-align: right;\n",
       "    }\n",
       "</style>\n",
       "<table border=\"1\" class=\"dataframe\">\n",
       "  <thead>\n",
       "    <tr style=\"text-align: right;\">\n",
       "      <th></th>\n",
       "      <th>home</th>\n",
       "      <th>busca</th>\n",
       "      <th>logado</th>\n",
       "      <th>comprou</th>\n",
       "    </tr>\n",
       "  </thead>\n",
       "  <tbody>\n",
       "    <tr>\n",
       "      <th>0</th>\n",
       "      <td>0</td>\n",
       "      <td>algoritmos</td>\n",
       "      <td>1</td>\n",
       "      <td>1</td>\n",
       "    </tr>\n",
       "    <tr>\n",
       "      <th>1</th>\n",
       "      <td>0</td>\n",
       "      <td>java</td>\n",
       "      <td>0</td>\n",
       "      <td>1</td>\n",
       "    </tr>\n",
       "    <tr>\n",
       "      <th>2</th>\n",
       "      <td>1</td>\n",
       "      <td>algoritmos</td>\n",
       "      <td>0</td>\n",
       "      <td>1</td>\n",
       "    </tr>\n",
       "    <tr>\n",
       "      <th>3</th>\n",
       "      <td>1</td>\n",
       "      <td>ruby</td>\n",
       "      <td>1</td>\n",
       "      <td>0</td>\n",
       "    </tr>\n",
       "    <tr>\n",
       "      <th>4</th>\n",
       "      <td>1</td>\n",
       "      <td>ruby</td>\n",
       "      <td>0</td>\n",
       "      <td>1</td>\n",
       "    </tr>\n",
       "  </tbody>\n",
       "</table>\n",
       "</div>"
      ],
      "text/plain": [
       "   home       busca  logado  comprou\n",
       "0     0  algoritmos       1        1\n",
       "1     0        java       0        1\n",
       "2     1  algoritmos       0        1\n",
       "3     1        ruby       1        0\n",
       "4     1        ruby       0        1"
      ]
     },
     "execution_count": 102,
     "metadata": {},
     "output_type": "execute_result"
    }
   ],
   "source": [
    "df = pd.read_csv('busca.csv')\n",
    "df.head()"
   ]
  },
  {
   "cell_type": "code",
   "execution_count": 57,
   "id": "cd9e3dce",
   "metadata": {},
   "outputs": [],
   "source": [
    "X_df = df[['home', 'busca', 'logado']]\n",
    "Y_df = df['comprou']"
   ]
  },
  {
   "cell_type": "code",
   "execution_count": 58,
   "id": "ea087173",
   "metadata": {},
   "outputs": [],
   "source": [
    "Xdummies_df = pd.get_dummies(X_df)\n",
    "Ydummies_df = Y_df"
   ]
  },
  {
   "cell_type": "code",
   "execution_count": 59,
   "id": "6e6fd4c5",
   "metadata": {},
   "outputs": [],
   "source": [
    "X = Xdummies_df.values\n",
    "Y = Ydummies_df.values"
   ]
  },
  {
   "cell_type": "code",
   "execution_count": 60,
   "id": "3bf894af",
   "metadata": {},
   "outputs": [
    {
     "data": {
      "text/plain": [
       "900.0"
      ]
     },
     "execution_count": 60,
     "metadata": {},
     "output_type": "execute_result"
    }
   ],
   "source": [
    "tamanho_de_treino = 0.9 * len(Y)\n",
    "tamanho_de_treino"
   ]
  },
  {
   "cell_type": "code",
   "execution_count": 61,
   "id": "b7f7b4f1",
   "metadata": {},
   "outputs": [],
   "source": [
    "treino_dados = X[:900]\n",
    "treino_marcacoes = Y[:900]"
   ]
  },
  {
   "cell_type": "code",
   "execution_count": 62,
   "id": "fb67888a",
   "metadata": {},
   "outputs": [],
   "source": [
    "teste_dados = X[-100:]\n",
    "teste_marcacoes = Y[-100:]"
   ]
  },
  {
   "cell_type": "code",
   "execution_count": 63,
   "id": "9dea61b4",
   "metadata": {},
   "outputs": [
    {
     "data": {
      "text/plain": [
       "100"
      ]
     },
     "execution_count": 63,
     "metadata": {},
     "output_type": "execute_result"
    }
   ],
   "source": [
    "len(teste_marcacoes)"
   ]
  },
  {
   "cell_type": "code",
   "execution_count": 64,
   "id": "3ff3ee1e",
   "metadata": {},
   "outputs": [
    {
     "data": {
      "text/plain": [
       "MultinomialNB()"
      ]
     },
     "execution_count": 64,
     "metadata": {},
     "output_type": "execute_result"
    }
   ],
   "source": [
    "from sklearn.naive_bayes import MultinomialNB\n",
    "modelo = MultinomialNB()\n",
    "modelo.fit(treino_dados, treino_marcacoes)"
   ]
  },
  {
   "cell_type": "code",
   "execution_count": 65,
   "id": "8a4b8386",
   "metadata": {},
   "outputs": [
    {
     "data": {
      "text/plain": [
       "array([1, 1, 1, 1, 1, 1, 1, 1, 1, 1, 1, 1, 1, 1, 1, 1, 1, 1, 1, 1, 1, 1,\n",
       "       1, 1, 1, 1, 1, 1, 1, 1, 1, 1, 1, 1, 1, 1, 1, 1, 1, 1, 1, 1, 1, 1,\n",
       "       1, 1, 1, 1, 1, 1, 1, 1, 1, 1, 1, 1, 1, 1, 1, 1, 1, 1, 1, 1, 1, 1,\n",
       "       1, 1, 1, 1, 1, 1, 1, 1, 1, 1, 1, 1, 1, 1, 1, 1, 1, 1, 1, 1, 1, 1,\n",
       "       1, 1, 1, 1, 1, 1, 1, 1, 1, 1, 1, 1], dtype=int64)"
      ]
     },
     "execution_count": 65,
     "metadata": {},
     "output_type": "execute_result"
    }
   ],
   "source": [
    "resultado = modelo.predict(teste_dados)\n",
    "resultado"
   ]
  },
  {
   "cell_type": "code",
   "execution_count": 66,
   "id": "5f2282dd",
   "metadata": {},
   "outputs": [
    {
     "name": "stdout",
     "output_type": "stream",
     "text": [
      "82.0\n",
      "100\n"
     ]
    }
   ],
   "source": [
    "from sklearn.naive_bayes import MultinomialNB\n",
    "modelo = MultinomialNB()\n",
    "modelo.fit(treino_dados, treino_marcacoes)\n",
    "\n",
    "resultado = modelo.predict(teste_dados)\n",
    "\n",
    "diferencas = resultado - teste_marcacoes\n",
    "\n",
    "acertos = [d for d in diferencas if d == 0]\n",
    "total_de_acertos = len(acertos)\n",
    "total_de_elementos = len(teste_dados)\n",
    "\n",
    "taxa_de_acerto = 100.0 * total_de_acertos / total_de_elementos\n",
    "\n",
    "print(taxa_de_acerto)\n",
    "print(total_de_elementos)"
   ]
  },
  {
   "cell_type": "code",
   "execution_count": 67,
   "id": "7ba74471",
   "metadata": {},
   "outputs": [
    {
     "data": {
      "text/plain": [
       "100"
      ]
     },
     "execution_count": 67,
     "metadata": {},
     "output_type": "execute_result"
    }
   ],
   "source": [
    "len(teste_dados)"
   ]
  },
  {
   "cell_type": "code",
   "execution_count": 68,
   "id": "c74ba5ee",
   "metadata": {},
   "outputs": [],
   "source": [
    "import numpy as np"
   ]
  },
  {
   "cell_type": "code",
   "execution_count": 69,
   "id": "1cfdfaef",
   "metadata": {},
   "outputs": [],
   "source": [
    "import collections"
   ]
  },
  {
   "cell_type": "code",
   "execution_count": 70,
   "id": "645f8aac",
   "metadata": {},
   "outputs": [
    {
     "data": {
      "text/plain": [
       "168"
      ]
     },
     "execution_count": 70,
     "metadata": {},
     "output_type": "execute_result"
    }
   ],
   "source": [
    "len(Y[Y==0])"
   ]
  },
  {
   "cell_type": "code",
   "execution_count": 97,
   "id": "b5bbecf4",
   "metadata": {},
   "outputs": [],
   "source": [
    "#from sklearn.naive_bayes import MultinomialNB\n",
    "#modelo = MultinomialNB()\n",
    "\n",
    "from sklearn.ensemble import AdaBoostClassifier\n",
    "modelo = AdaBoostClassifier()\n",
    "\n",
    "modelo.fit(treino_dados, treino_marcacoes)\n",
    "\n",
    "resultado = modelo.predict(teste_dados)\n",
    "\n",
    "acertos = (resultado == teste_marcacoes)\n",
    "\n",
    "total_de_acertos = sum(acertos)\n",
    "total_de_elementos = len(teste_dados)"
   ]
  },
  {
   "cell_type": "code",
   "execution_count": 98,
   "id": "429de28a",
   "metadata": {},
   "outputs": [],
   "source": [
    "acerto_base = max(collections.Counter(Y).values())\n",
    "taxa_de_acerto_base = 100.0 * acerto_base / len(Y)"
   ]
  },
  {
   "cell_type": "code",
   "execution_count": 99,
   "id": "aa5f2dca",
   "metadata": {},
   "outputs": [
    {
     "name": "stdout",
     "output_type": "stream",
     "text": [
      "Taxa de acerto do algoritmo: 82.000000\n",
      "Taxa de acerto base: 83.200000\n"
     ]
    }
   ],
   "source": [
    "# restante do código\n",
    "\n",
    "print(\"Taxa de acerto do algoritmo: %f\" % taxa_de_acerto)\n",
    "#print(total_de_elementos) \n",
    "\n",
    "acerto_base = max(collections.Counter(Y).values())\n",
    "taxa_de_acerto_base = 100.0 * acerto_base / len(Y)\n",
    "print(\"Taxa de acerto base: %f\" % taxa_de_acerto_base)"
   ]
  },
  {
   "cell_type": "code",
   "execution_count": 156,
   "id": "4c520dd3",
   "metadata": {},
   "outputs": [
    {
     "name": "stdout",
     "output_type": "stream",
     "text": [
      "Taxa de acerto do algoritmo MultinomialNB: 82.0\n",
      "Taxa de acerto do algoritmo AdaBoostClassifier: 84.0\n",
      "Taxa de acerto do vencedor entre os dois algorítmos no mundo real: 85.0\n",
      "Taxa de acerto base: 82.000000\n",
      "Total de teste: 100\n"
     ]
    }
   ],
   "source": [
    "import pandas as pd\n",
    "from collections import Counter\n",
    "\n",
    "# teste inicial: home, busca, logado => comprou\n",
    "# home, busca\n",
    "# home, logado\n",
    "# busca, logado\n",
    "# busca: 85,71% (7 testes)\n",
    "\n",
    "df = pd.read_csv('busca.csv')\n",
    "X_df = df[['home','busca', 'logado']]\n",
    "Y_df = df['comprou']\n",
    "\n",
    "Xdummies_df = pd.get_dummies(X_df)\n",
    "Ydummies_df = Y_df\n",
    "\n",
    "X = Xdummies_df.values\n",
    "Y = Ydummies_df.values \n",
    "\n",
    "porcentagem_treino = 0.8\n",
    "porcentagem_teste = 0.1\n",
    "\n",
    "tamanho_de_treino = int(porcentagem_treino * len(Y))\n",
    "tamanho_de_teste = porcentagem_teste * len(Y)\n",
    "tamanho_de_validacao = len(Y) - tamanho_de_treino - tamanho_de_teste\n",
    "\n",
    "#0 até 799\n",
    "treino_dados = X[0:tamanho_de_treino]\n",
    "treino_marcacoes = Y[0:tamanho_de_treino]\n",
    "\n",
    "#800 até 899\n",
    "fim_de_teste = tamanho_de_treino + tamanho_de_teste\n",
    "teste_dados = X[tamanho_de_treino:int(fim_de_teste)]\n",
    "teste_marcacoes = Y[tamanho_de_treino:int(fim_de_teste)]\n",
    "\n",
    "#900 até 999\n",
    "validacao_dados = X[int(fim_de_teste):]\n",
    "validacao_marcacoes = Y[int(fim_de_teste):]\n",
    "\n",
    "def fit_and_predict(nome, modelo, treino_dados, treino_marcacoes, teste_dados, teste_marcacoes):\n",
    "    modelo.fit(treino_dados, treino_marcacoes)\n",
    "\n",
    "    resultado = modelo.predict(teste_dados)\n",
    "\n",
    "    acertos = resultado == teste_marcacoes\n",
    "\n",
    "    total_de_acertos = sum(acertos)\n",
    "    total_de_elementos = len(teste_dados)\n",
    "\n",
    "    taxa_de_acerto = 100.0 * total_de_acertos / total_de_elementos\n",
    "\n",
    "    msg = \"Taxa de acerto do algoritmo {0}: {1}\".format(nome, taxa_de_acerto)\n",
    "\n",
    "    print(msg)\n",
    "    return(taxa_de_acerto)\n",
    "\n",
    "\n",
    "from sklearn.naive_bayes import MultinomialNB\n",
    "modeloMultinomial = MultinomialNB()\n",
    "resultadoMultinomial = fit_and_predict(\"MultinomialNB\", modeloMultinomial, treino_dados, treino_marcacoes, teste_dados, teste_marcacoes)\n",
    "\n",
    "from sklearn.ensemble import AdaBoostClassifier\n",
    "modeloAdaBoost = AdaBoostClassifier()\n",
    "resultadoAdaBoost = fit_and_predict(\"AdaBoostClassifier\", modeloAdaBoost, treino_dados, treino_marcacoes, teste_dados, teste_marcacoes)\n",
    "\n",
    "if resultadoMultinomial > resultadoAdaBoost:\n",
    "    vencedor = resultadoMultinomial\n",
    "else:\n",
    "    vencedor = modeloAdaBoost\n",
    "    \n",
    "resultado = vencedor.predict(validacao_dados)\n",
    "acertos = resultado == validacao_marcacoes \n",
    "\n",
    "total_de_acertos = sum(acertos)\n",
    "total_de_elementos = len(validacao_marcacoes)\n",
    "\n",
    "taxa_de_acerto = 100.0 * total_de_acertos / total_de_elementos\n",
    "\n",
    "msg = \"Taxa de acerto do vencedor entre os dois algorítmos no mundo real: {0}\".format(taxa_de_acerto)\n",
    "print(msg)    \n",
    "\n",
    "acerto_base = max(collections.Counter(validacao_marcacoes).values())\n",
    "taxa_de_acerto_base = 100.0 * acerto_base / len(validacao_marcacoes)\n",
    "print(\"Taxa de acerto base: %f\" % taxa_de_acerto_base)\n",
    "\n",
    "total_de_elementos = len(teste_dados)\n",
    "print(\"Total de teste: %d\" % len(validacao_dados))"
   ]
  },
  {
   "cell_type": "code",
   "execution_count": 146,
   "id": "3e771d2f",
   "metadata": {},
   "outputs": [
    {
     "data": {
      "text/plain": [
       "100"
      ]
     },
     "execution_count": 146,
     "metadata": {},
     "output_type": "execute_result"
    }
   ],
   "source": [
    "fim_de_teste = tamanho_de_treino + tamanho_de_teste\n",
    "teste_dados = X[tamanho_de_treino:int(fim_de_teste)]\n",
    "teste_marcacoes = Y[tamanho_de_treino:int(fim_de_teste)]\n",
    "len(teste_marcacoes)"
   ]
  },
  {
   "cell_type": "code",
   "execution_count": 129,
   "id": "6e9e9709",
   "metadata": {},
   "outputs": [
    {
     "data": {
      "text/plain": [
       "800"
      ]
     },
     "execution_count": 129,
     "metadata": {},
     "output_type": "execute_result"
    }
   ],
   "source": [
    "treino_dados = X[0:tamanho_de_treino]\n",
    "treino_marcacoes = Y[0:tamanho_de_treino]\n",
    "\n",
    "len(treino_marcacoes)"
   ]
  },
  {
   "cell_type": "code",
   "execution_count": 137,
   "id": "84b9173a",
   "metadata": {},
   "outputs": [
    {
     "data": {
      "text/plain": [
       "100.0"
      ]
     },
     "execution_count": 137,
     "metadata": {},
     "output_type": "execute_result"
    }
   ],
   "source": [
    "fim_de_teste = tamanho_de_treino + tamanho_de_teste\n",
    "tamanho_de_teste"
   ]
  },
  {
   "cell_type": "code",
   "execution_count": 140,
   "id": "8c6b06f8",
   "metadata": {},
   "outputs": [
    {
     "ename": "TypeError",
     "evalue": "slice indices must be integers or None or have an __index__ method",
     "output_type": "error",
     "traceback": [
      "\u001b[1;31m---------------------------------------------------------------------------\u001b[0m",
      "\u001b[1;31mTypeError\u001b[0m                                 Traceback (most recent call last)",
      "\u001b[1;32m<ipython-input-140-2f3e3d3cccad>\u001b[0m in \u001b[0;36m<module>\u001b[1;34m\u001b[0m\n\u001b[1;32m----> 1\u001b[1;33m \u001b[0mteste_dados\u001b[0m \u001b[1;33m=\u001b[0m \u001b[0mX\u001b[0m\u001b[1;33m[\u001b[0m\u001b[0mtamanho_de_treino\u001b[0m\u001b[1;33m:\u001b[0m\u001b[0mfim_de_teste\u001b[0m\u001b[1;33m]\u001b[0m\u001b[1;33m\u001b[0m\u001b[1;33m\u001b[0m\u001b[0m\n\u001b[0m",
      "\u001b[1;31mTypeError\u001b[0m: slice indices must be integers or None or have an __index__ method"
     ]
    }
   ],
   "source": [
    "teste_dados = X[tamanho_de_treino:fim_de_teste]"
   ]
  },
  {
   "cell_type": "code",
   "execution_count": null,
   "id": "50b90a55",
   "metadata": {},
   "outputs": [],
   "source": []
  }
 ],
 "metadata": {
  "kernelspec": {
   "display_name": "Python 3",
   "language": "python",
   "name": "python3"
  },
  "language_info": {
   "codemirror_mode": {
    "name": "ipython",
    "version": 3
   },
   "file_extension": ".py",
   "mimetype": "text/x-python",
   "name": "python",
   "nbconvert_exporter": "python",
   "pygments_lexer": "ipython3",
   "version": "3.8.8"
  }
 },
 "nbformat": 4,
 "nbformat_minor": 5
}
